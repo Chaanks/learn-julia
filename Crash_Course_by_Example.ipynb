{
 "cells": [
  {
   "cell_type": "markdown",
   "metadata": {},
   "source": [
    "# 1- Math"
   ]
  },
  {
   "cell_type": "markdown",
   "metadata": {
    "hide_input": true
   },
   "source": [
    "## Bubble Sort"
   ]
  },
  {
   "cell_type": "code",
   "execution_count": 23,
   "metadata": {},
   "outputs": [
    {
     "data": {
      "text/plain": [
       "4-element Array{Int64,1}:\n",
       " 1\n",
       " 2\n",
       " 3\n",
       " 4"
      ]
     },
     "execution_count": 23,
     "metadata": {},
     "output_type": "execute_result"
    }
   ],
   "source": [
    "function bubble_sort!(a)\n",
    "    n = length(a)\n",
    "    for i in 1:n-1\n",
    "        for j in 1:n-i\n",
    "            if a[j] > a[j+1]\n",
    "                a[j], a[j+1] = a[j+1], a[j]\n",
    "            end\n",
    "        end\n",
    "    end\n",
    "    return a\n",
    "end\n",
    "\n",
    "bubble_sort!([2, 1, 4, 3])"
   ]
  },
  {
   "cell_type": "markdown",
   "metadata": {},
   "source": [
    "## Roots of a Polynomial"
   ]
  },
  {
   "cell_type": "code",
   "execution_count": 16,
   "metadata": {},
   "outputs": [
    {
     "name": "stdout",
     "output_type": "stream",
     "text": [
      "[-0.289898, 0.689898]"
     ]
    }
   ],
   "source": [
    "using Roots\n",
    "\n",
    "function polynomial_generator(a...)\n",
    "    n = length(a)-1\n",
    "    poly = x -> sum([a[i+1] * x^i for i in 0:n])\n",
    "    return poly\n",
    "end\n",
    "\n",
    "polynomial = polynomial_generator(2, 4, -10)\n",
    "zeroVals = find_zeros(polynomial, -10, 10)\n",
    "print(zeroVals)"
   ]
  },
  {
   "cell_type": "markdown",
   "metadata": {},
   "source": [
    "## Markov Chain"
   ]
  },
  {
   "cell_type": "code",
   "execution_count": 60,
   "metadata": {},
   "outputs": [
    {
     "data": {
      "text/plain": [
       "3×4 Array{Float64,2}:\n",
       " 0.4375  0.4375  0.4375  0.437547\n",
       " 0.3125  0.3125  0.3125  0.312653\n",
       " 0.25    0.25    0.25    0.2498  "
      ]
     },
     "execution_count": 60,
     "metadata": {},
     "output_type": "execute_result"
    }
   ],
   "source": [
    "using LinearAlgebra, StatsBase\n",
    "\n",
    "P = [0.5 0.4 0.1;\n",
    "     0.3 0.2 0.5;\n",
    "     0.5 0.3 0.2]\n",
    "\n",
    "# First way\n",
    "piProb1 = (P^100)[1, :]\n",
    "\n",
    "A = vcat((P' - I)[1:2, :], ones(3)')\n",
    "b = [0, 0, 1]\n",
    "piProb2 = A\\b\n",
    "\n",
    "eigVecs = eigvecs(copy(P'))\n",
    "highestVec = eigVecs[:,findmax(abs.(eigvals(P)))[2]]\n",
    "piProb3 = Array{Float64}(highestVec)/norm(highestVec,1);\n",
    "\n",
    "numInState = zeros(3)\n",
    "state = 1\n",
    "N = 10^6\n",
    "for t in 1:N\n",
    "    numInState[state] += 1\n",
    "    global state = sample(1:3,weights(P[state,:]))\n",
    "end\n",
    "piProb4 = numInState/N\n",
    "\n",
    "[piProb1 piProb2 piProb3 piProb4]"
   ]
  }
 ],
 "metadata": {
  "kernelspec": {
   "display_name": "Julia 1.0.3",
   "language": "julia",
   "name": "julia-1.0"
  },
  "language_info": {
   "file_extension": ".jl",
   "mimetype": "application/julia",
   "name": "julia",
   "version": "1.0.3"
  }
 },
 "nbformat": 4,
 "nbformat_minor": 2
}
